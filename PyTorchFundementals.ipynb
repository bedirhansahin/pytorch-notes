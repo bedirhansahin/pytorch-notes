{
  "nbformat": 4,
  "nbformat_minor": 0,
  "metadata": {
    "colab": {
      "provenance": [],
      "gpuType": "T4",
      "mount_file_id": "1QLLfQk7buGmYLu3pt4zudloz-q22n1td",
      "authorship_tag": "ABX9TyOUFN6388nyfiUv2TC1NV0N",
      "include_colab_link": true
    },
    "kernelspec": {
      "name": "python3",
      "display_name": "Python 3"
    },
    "language_info": {
      "name": "python"
    },
    "accelerator": "GPU"
  },
  "cells": [
    {
      "cell_type": "markdown",
      "metadata": {
        "id": "view-in-github",
        "colab_type": "text"
      },
      "source": [
        "<a href=\"https://colab.research.google.com/github/bedirhansahin/pytorch-notes/blob/main/PyTorchFundementals.ipynb\" target=\"_parent\"><img src=\"https://colab.research.google.com/assets/colab-badge.svg\" alt=\"Open In Colab\"/></a>"
      ]
    },
    {
      "cell_type": "code",
      "execution_count": null,
      "metadata": {
        "id": "puNx6At6Z5t4",
        "colab": {
          "base_uri": "https://localhost:8080/"
        },
        "outputId": "d03fd6f4-0b77-40ed-c090-d3440a124a2b"
      },
      "outputs": [
        {
          "output_type": "stream",
          "name": "stdout",
          "text": [
            "Found existing installation: torch 2.1.0+cu118\n",
            "Uninstalling torch-2.1.0+cu118:\n",
            "  Successfully uninstalled torch-2.1.0+cu118\n"
          ]
        }
      ],
      "source": [
        "!pip uninstall torch -y"
      ]
    },
    {
      "cell_type": "code",
      "source": [
        "!pip3 install torch==1.11.0"
      ],
      "metadata": {
        "id": "ySiAGCaTaBOK",
        "colab": {
          "base_uri": "https://localhost:8080/"
        },
        "outputId": "71f68d81-ed5b-4024-a9f8-7cd3ede22dea"
      },
      "execution_count": null,
      "outputs": [
        {
          "output_type": "stream",
          "name": "stdout",
          "text": [
            "Collecting torch==1.11.0\n",
            "  Downloading torch-1.11.0-cp310-cp310-manylinux1_x86_64.whl (750.6 MB)\n",
            "\u001b[2K     \u001b[90m━━━━━━━━━━━━━━━━━━━━━━━━━━━━━━━━━━━━━━━━\u001b[0m \u001b[32m750.6/750.6 MB\u001b[0m \u001b[31m2.3 MB/s\u001b[0m eta \u001b[36m0:00:00\u001b[0m\n",
            "\u001b[?25hRequirement already satisfied: typing-extensions in /usr/local/lib/python3.10/dist-packages (from torch==1.11.0) (4.5.0)\n",
            "Installing collected packages: torch\n",
            "\u001b[31mERROR: pip's dependency resolver does not currently take into account all the packages that are installed. This behaviour is the source of the following dependency conflicts.\n",
            "torchaudio 2.1.0+cu118 requires torch==2.1.0, but you have torch 1.11.0 which is incompatible.\n",
            "torchdata 0.7.0 requires torch==2.1.0, but you have torch 1.11.0 which is incompatible.\n",
            "torchtext 0.16.0 requires torch==2.1.0, but you have torch 1.11.0 which is incompatible.\n",
            "torchvision 0.16.0+cu118 requires torch==2.1.0, but you have torch 1.11.0 which is incompatible.\u001b[0m\u001b[31m\n",
            "\u001b[0mSuccessfully installed torch-1.11.0\n"
          ]
        }
      ]
    },
    {
      "cell_type": "code",
      "source": [
        "import torch\n",
        "print(torch.__version__)"
      ],
      "metadata": {
        "id": "95MpYWSLaHXY",
        "colab": {
          "base_uri": "https://localhost:8080/"
        },
        "outputId": "5e6c1680-119d-46f4-cfab-f325691ca48d"
      },
      "execution_count": null,
      "outputs": [
        {
          "output_type": "stream",
          "name": "stdout",
          "text": [
            "1.11.0+cu102\n"
          ]
        }
      ]
    },
    {
      "cell_type": "markdown",
      "source": [
        "### SCALAR"
      ],
      "metadata": {
        "id": "KQcyjp8THmST"
      }
    },
    {
      "cell_type": "code",
      "source": [
        "scalar = torch.tensor(7)\n",
        "scalar.ndim"
      ],
      "metadata": {
        "id": "2rGdBCdffip-",
        "colab": {
          "base_uri": "https://localhost:8080/"
        },
        "outputId": "e136f18c-494c-4689-9ec3-67c8df92cc5c"
      },
      "execution_count": null,
      "outputs": [
        {
          "output_type": "execute_result",
          "data": {
            "text/plain": [
              "0"
            ]
          },
          "metadata": {},
          "execution_count": 4
        }
      ]
    },
    {
      "cell_type": "code",
      "source": [
        "scalar.item()"
      ],
      "metadata": {
        "id": "zLM19bRrSM8r",
        "colab": {
          "base_uri": "https://localhost:8080/"
        },
        "outputId": "2c7779d6-8220-4a72-f4e3-cca97fe0adf1"
      },
      "execution_count": null,
      "outputs": [
        {
          "output_type": "execute_result",
          "data": {
            "text/plain": [
              "7"
            ]
          },
          "metadata": {},
          "execution_count": 5
        }
      ]
    },
    {
      "cell_type": "markdown",
      "source": [
        "### VECTOR"
      ],
      "metadata": {
        "id": "OxUxykDxHold"
      }
    },
    {
      "cell_type": "code",
      "source": [
        "vector = torch.tensor([7, 7])\n",
        "vector.ndim"
      ],
      "metadata": {
        "colab": {
          "base_uri": "https://localhost:8080/"
        },
        "id": "Rii759sZC07_",
        "outputId": "a54880c3-9abd-4c6a-f9bc-0ecef3656151"
      },
      "execution_count": null,
      "outputs": [
        {
          "output_type": "execute_result",
          "data": {
            "text/plain": [
              "1"
            ]
          },
          "metadata": {},
          "execution_count": 6
        }
      ]
    },
    {
      "cell_type": "code",
      "source": [
        "vector.shape"
      ],
      "metadata": {
        "colab": {
          "base_uri": "https://localhost:8080/"
        },
        "id": "ud1PG-WqC9DN",
        "outputId": "5d23de59-80ac-4fed-bf19-18c117587667"
      },
      "execution_count": null,
      "outputs": [
        {
          "output_type": "execute_result",
          "data": {
            "text/plain": [
              "torch.Size([2])"
            ]
          },
          "metadata": {},
          "execution_count": 7
        }
      ]
    },
    {
      "cell_type": "markdown",
      "source": [
        "### MATRIX"
      ],
      "metadata": {
        "id": "J061_qxCDMq3"
      }
    },
    {
      "cell_type": "code",
      "source": [
        "MATRIX = torch.tensor(\n",
        "    [\n",
        "        [1, 2, 3],\n",
        "        [4, 5, 6],\n",
        "        [7, 8, 9],\n",
        "    ]\n",
        "    )"
      ],
      "metadata": {
        "id": "F9qsxtGiDOjE"
      },
      "execution_count": null,
      "outputs": []
    },
    {
      "cell_type": "code",
      "source": [
        "MATRIX.ndim"
      ],
      "metadata": {
        "colab": {
          "base_uri": "https://localhost:8080/"
        },
        "id": "swuo927eDYlh",
        "outputId": "78285b15-b1e6-440d-ff80-346005dbb7c7"
      },
      "execution_count": null,
      "outputs": [
        {
          "output_type": "execute_result",
          "data": {
            "text/plain": [
              "2"
            ]
          },
          "metadata": {},
          "execution_count": 9
        }
      ]
    },
    {
      "cell_type": "code",
      "source": [
        "MATRIX.shape"
      ],
      "metadata": {
        "colab": {
          "base_uri": "https://localhost:8080/"
        },
        "id": "-c5iK4nZDhbt",
        "outputId": "bdec7721-6139-4e02-8e23-e0c5e0e06db8"
      },
      "execution_count": null,
      "outputs": [
        {
          "output_type": "execute_result",
          "data": {
            "text/plain": [
              "torch.Size([3, 3])"
            ]
          },
          "metadata": {},
          "execution_count": 10
        }
      ]
    },
    {
      "cell_type": "code",
      "source": [
        "MATRIX[0]"
      ],
      "metadata": {
        "colab": {
          "base_uri": "https://localhost:8080/"
        },
        "id": "unmFslV8DjMk",
        "outputId": "bce2a253-c876-4489-fc87-9050782ef1ff"
      },
      "execution_count": null,
      "outputs": [
        {
          "output_type": "execute_result",
          "data": {
            "text/plain": [
              "tensor([1, 2, 3])"
            ]
          },
          "metadata": {},
          "execution_count": 11
        }
      ]
    },
    {
      "cell_type": "code",
      "source": [
        "MATRIX[0][2]"
      ],
      "metadata": {
        "colab": {
          "base_uri": "https://localhost:8080/"
        },
        "id": "nXlu5vKaDqAd",
        "outputId": "17c01baa-02cd-449e-9b67-bde26ee37b62"
      },
      "execution_count": null,
      "outputs": [
        {
          "output_type": "execute_result",
          "data": {
            "text/plain": [
              "tensor(3)"
            ]
          },
          "metadata": {},
          "execution_count": 12
        }
      ]
    },
    {
      "cell_type": "markdown",
      "source": [
        "### TENSOR"
      ],
      "metadata": {
        "id": "eWoWCFQrD7BM"
      }
    },
    {
      "cell_type": "code",
      "source": [
        "# first square brackets => dim = 0\n",
        "# second square brackets => dim = 1\n",
        "# third square brackets => dim = 2\n",
        "\n",
        "TENSOR = torch.tensor(\n",
        "    [\n",
        "        # First tensor\n",
        "        [\n",
        "            [1, 2, 3],\n",
        "            [4, 5, 6],\n",
        "            [7, 8, 9]\n",
        "        ],\n",
        "        # Second tensor\n",
        "        [\n",
        "            [0, 0, 0],\n",
        "            [0, 0, 0],\n",
        "            [0, 0, 0]\n",
        "        ]\n",
        "    ]\n",
        ")\n",
        "TENSOR"
      ],
      "metadata": {
        "colab": {
          "base_uri": "https://localhost:8080/"
        },
        "id": "uoeO5MhbD9mr",
        "outputId": "21fe34d2-975f-41d4-f2e1-5b8089281105"
      },
      "execution_count": null,
      "outputs": [
        {
          "output_type": "execute_result",
          "data": {
            "text/plain": [
              "tensor([[[1, 2, 3],\n",
              "         [4, 5, 6],\n",
              "         [7, 8, 9]],\n",
              "\n",
              "        [[0, 0, 0],\n",
              "         [0, 0, 0],\n",
              "         [0, 0, 0]]])"
            ]
          },
          "metadata": {},
          "execution_count": 13
        }
      ]
    },
    {
      "cell_type": "code",
      "source": [
        "TENSOR.ndim"
      ],
      "metadata": {
        "colab": {
          "base_uri": "https://localhost:8080/"
        },
        "id": "UupbxFrQEGq5",
        "outputId": "4c2affe0-85fc-4558-ad24-0a0defb90d3e"
      },
      "execution_count": null,
      "outputs": [
        {
          "output_type": "execute_result",
          "data": {
            "text/plain": [
              "3"
            ]
          },
          "metadata": {},
          "execution_count": 14
        }
      ]
    },
    {
      "cell_type": "code",
      "source": [
        "TENSOR.shape"
      ],
      "metadata": {
        "colab": {
          "base_uri": "https://localhost:8080/"
        },
        "id": "ft2SKCcBEHHG",
        "outputId": "7611b0ea-839b-4957-c5e4-ba3b4b51426d"
      },
      "execution_count": null,
      "outputs": [
        {
          "output_type": "execute_result",
          "data": {
            "text/plain": [
              "torch.Size([2, 3, 3])"
            ]
          },
          "metadata": {},
          "execution_count": 15
        }
      ]
    },
    {
      "cell_type": "code",
      "source": [
        "TENSOR[0]"
      ],
      "metadata": {
        "colab": {
          "base_uri": "https://localhost:8080/"
        },
        "id": "uROn5rSYFvfZ",
        "outputId": "44e00c65-4684-46d2-f82e-79e2b052d444"
      },
      "execution_count": null,
      "outputs": [
        {
          "output_type": "execute_result",
          "data": {
            "text/plain": [
              "tensor([[1, 2, 3],\n",
              "        [4, 5, 6],\n",
              "        [7, 8, 9]])"
            ]
          },
          "metadata": {},
          "execution_count": 16
        }
      ]
    },
    {
      "cell_type": "code",
      "source": [
        "TENSOR[0][0]"
      ],
      "metadata": {
        "colab": {
          "base_uri": "https://localhost:8080/"
        },
        "id": "a8iCZPV2F6pX",
        "outputId": "04a2e0d5-1ad3-4f17-8daf-b2b82f720deb"
      },
      "execution_count": null,
      "outputs": [
        {
          "output_type": "execute_result",
          "data": {
            "text/plain": [
              "tensor([1, 2, 3])"
            ]
          },
          "metadata": {},
          "execution_count": 17
        }
      ]
    },
    {
      "cell_type": "code",
      "source": [
        "TENSOR[0][0][0]"
      ],
      "metadata": {
        "colab": {
          "base_uri": "https://localhost:8080/"
        },
        "id": "pXvs0G3aF8HT",
        "outputId": "0a86e36b-7359-4123-a352-58718a3426c4"
      },
      "execution_count": null,
      "outputs": [
        {
          "output_type": "execute_result",
          "data": {
            "text/plain": [
              "tensor(1)"
            ]
          },
          "metadata": {},
          "execution_count": 18
        }
      ]
    },
    {
      "cell_type": "markdown",
      "source": [
        "### CREATE RANDOM TENSOR\n",
        "\n",
        "Why random tensors?\n",
        "\n",
        "Random tensors are importan because the way many neural networks learn is that they start with tensors full of random numbers and then adjust those random numbers to better represent the data.\n",
        "`Start with random numbers -> look at data -> update random numbers -> look at data -> update random numbers`"
      ],
      "metadata": {
        "id": "js5R90yjHeVc"
      }
    },
    {
      "cell_type": "code",
      "source": [
        "# RANDOM_TENSOR = torch.rand(2, 8, 8)\n",
        "RANDOM_TENSOR = torch.rand(3, 4)\n",
        "print(RANDOM_TENSOR)\n",
        "print(f\"dimension: {RANDOM_TENSOR.ndim}\")"
      ],
      "metadata": {
        "colab": {
          "base_uri": "https://localhost:8080/"
        },
        "id": "ZU864TwjHipF",
        "outputId": "92f608e2-63c1-426a-9cea-287454ccbdff"
      },
      "execution_count": null,
      "outputs": [
        {
          "output_type": "stream",
          "name": "stdout",
          "text": [
            "tensor([[0.2480, 0.2972, 0.0342, 0.0583],\n",
            "        [0.3407, 0.8257, 0.7523, 0.4255],\n",
            "        [0.5769, 0.1585, 0.0435, 0.7411]])\n",
            "dimension: 2\n"
          ]
        }
      ]
    },
    {
      "cell_type": "code",
      "source": [
        "# Create a random tensor with similar shape to an image tensor\n",
        "RANDOM_IMAGE_SIZE_TENSOR = torch.rand(size=(3, 224, 224)) # color_channels, height, width\n",
        "RANDOM_IMAGE_SIZE_TENSOR.shape, RANDOM_IMAGE_SIZE_TENSOR.ndim"
      ],
      "metadata": {
        "colab": {
          "base_uri": "https://localhost:8080/"
        },
        "id": "aqBrpPlNI1tx",
        "outputId": "30dd5c1f-1e9b-4d79-baa6-09835e4b7aa2"
      },
      "execution_count": null,
      "outputs": [
        {
          "output_type": "execute_result",
          "data": {
            "text/plain": [
              "(torch.Size([3, 224, 224]), 3)"
            ]
          },
          "metadata": {},
          "execution_count": 20
        }
      ]
    },
    {
      "cell_type": "markdown",
      "source": [
        "### ZEROS AND ONES"
      ],
      "metadata": {
        "id": "CJUDEMU-QAG3"
      }
    },
    {
      "cell_type": "code",
      "source": [
        "zeros = torch.zeros(size=(3, 4))\n",
        "zeros"
      ],
      "metadata": {
        "colab": {
          "base_uri": "https://localhost:8080/"
        },
        "id": "_fgCtqzIQCmk",
        "outputId": "60e222f6-c131-4610-e375-35762a5921d2"
      },
      "execution_count": null,
      "outputs": [
        {
          "output_type": "execute_result",
          "data": {
            "text/plain": [
              "tensor([[0., 0., 0., 0.],\n",
              "        [0., 0., 0., 0.],\n",
              "        [0., 0., 0., 0.]])"
            ]
          },
          "metadata": {},
          "execution_count": 21
        }
      ]
    },
    {
      "cell_type": "code",
      "source": [
        "ones = torch.ones(size=(3, 4))\n",
        "ones"
      ],
      "metadata": {
        "colab": {
          "base_uri": "https://localhost:8080/"
        },
        "id": "8yfV1VlWQHn_",
        "outputId": "658d65ea-ad00-4bed-f481-76ea1c83ecde"
      },
      "execution_count": null,
      "outputs": [
        {
          "output_type": "execute_result",
          "data": {
            "text/plain": [
              "tensor([[1., 1., 1., 1.],\n",
              "        [1., 1., 1., 1.],\n",
              "        [1., 1., 1., 1.]])"
            ]
          },
          "metadata": {},
          "execution_count": 22
        }
      ]
    },
    {
      "cell_type": "code",
      "source": [
        "ones.dtype"
      ],
      "metadata": {
        "colab": {
          "base_uri": "https://localhost:8080/"
        },
        "id": "f6RZ7CoVQK2x",
        "outputId": "8cca8633-937b-45a6-9113-3a1288e1fc4b"
      },
      "execution_count": null,
      "outputs": [
        {
          "output_type": "execute_result",
          "data": {
            "text/plain": [
              "torch.float32"
            ]
          },
          "metadata": {},
          "execution_count": 23
        }
      ]
    },
    {
      "cell_type": "markdown",
      "source": [
        "### CREATING A RANGE OF TENSORS AND TENSORS LIKE"
      ],
      "metadata": {
        "id": "Ii2Yosl3KMqy"
      }
    },
    {
      "cell_type": "code",
      "source": [
        "one_to_ten = torch.arange(start=1, end=11, step=1)\n",
        "one_to_ten"
      ],
      "metadata": {
        "colab": {
          "base_uri": "https://localhost:8080/"
        },
        "id": "L-3cu5a-KRex",
        "outputId": "a8e02f98-2533-438b-8d33-79c440e3fc85"
      },
      "execution_count": null,
      "outputs": [
        {
          "output_type": "execute_result",
          "data": {
            "text/plain": [
              "tensor([ 1,  2,  3,  4,  5,  6,  7,  8,  9, 10])"
            ]
          },
          "metadata": {},
          "execution_count": 24
        }
      ]
    },
    {
      "cell_type": "code",
      "source": [
        "ten_zeros = torch.zeros_like(input=one_to_ten)\n",
        "ten_zeros"
      ],
      "metadata": {
        "colab": {
          "base_uri": "https://localhost:8080/"
        },
        "id": "Y_7IAgQ5Ko1G",
        "outputId": "89a4ffaa-0244-49de-abb0-18cf3f371f43"
      },
      "execution_count": null,
      "outputs": [
        {
          "output_type": "execute_result",
          "data": {
            "text/plain": [
              "tensor([0, 0, 0, 0, 0, 0, 0, 0, 0, 0])"
            ]
          },
          "metadata": {},
          "execution_count": 25
        }
      ]
    },
    {
      "cell_type": "markdown",
      "source": [
        "### TENSOR DATATYPES\n",
        "\n",
        "**Note:** Tensor datatypes is one of the 3 big errors you will run into with PyTorch and Deep Learning:\n",
        "1. Tensors not right datatypes\n",
        "2. Tensors not right shape\n",
        "3. Tensors not on the right device"
      ],
      "metadata": {
        "id": "eB5GpnhkQGl0"
      }
    },
    {
      "cell_type": "code",
      "source": [
        "float_32_tensor = torch.tensor(\n",
        "                      [3.0, 6.0, 9.0],\n",
        "                      dtype=None,\n",
        "                      device=None, # Cuda\n",
        "                      requires_grad=False\n",
        "                      )\n",
        "\n",
        "print(float_32_tensor)\n",
        "print(float_32_tensor.dtype)"
      ],
      "metadata": {
        "colab": {
          "base_uri": "https://localhost:8080/"
        },
        "id": "QS394hbpMGVx",
        "outputId": "a8ee08ad-e794-426d-de89-5d9c2a71e0fc"
      },
      "execution_count": null,
      "outputs": [
        {
          "output_type": "stream",
          "name": "stdout",
          "text": [
            "tensor([3., 6., 9.])\n",
            "torch.float32\n"
          ]
        }
      ]
    },
    {
      "cell_type": "code",
      "source": [
        "float_16_tensor = float_32_tensor.type(torch.float16) # torch.float16 = torch.half\n",
        "float_16_tensor"
      ],
      "metadata": {
        "colab": {
          "base_uri": "https://localhost:8080/"
        },
        "id": "lWA_9zSSQkUT",
        "outputId": "04a5ef53-1fa8-4830-a8f2-bc661875f8b6"
      },
      "execution_count": null,
      "outputs": [
        {
          "output_type": "execute_result",
          "data": {
            "text/plain": [
              "tensor([3., 6., 9.], dtype=torch.float16)"
            ]
          },
          "metadata": {},
          "execution_count": 27
        }
      ]
    },
    {
      "cell_type": "code",
      "source": [
        "float_16_tensor * float_32_tensor"
      ],
      "metadata": {
        "colab": {
          "base_uri": "https://localhost:8080/"
        },
        "id": "D9BZBQ9aRUVH",
        "outputId": "bdd1baf6-5b58-4b81-e616-0d2763c90920"
      },
      "execution_count": null,
      "outputs": [
        {
          "output_type": "execute_result",
          "data": {
            "text/plain": [
              "tensor([ 9., 36., 81.])"
            ]
          },
          "metadata": {},
          "execution_count": 28
        }
      ]
    },
    {
      "cell_type": "code",
      "source": [
        "integer_32_tensor = torch.tensor([3, 6, 9], dtype=torch.int32)\n",
        "integer_32_tensor"
      ],
      "metadata": {
        "colab": {
          "base_uri": "https://localhost:8080/"
        },
        "id": "QSg29bHWRVvl",
        "outputId": "9ade0ade-8724-422b-fa01-9beb2925b54d"
      },
      "execution_count": null,
      "outputs": [
        {
          "output_type": "execute_result",
          "data": {
            "text/plain": [
              "tensor([3, 6, 9], dtype=torch.int32)"
            ]
          },
          "metadata": {},
          "execution_count": 29
        }
      ]
    },
    {
      "cell_type": "code",
      "source": [
        "integer_32_tensor * float_32_tensor"
      ],
      "metadata": {
        "colab": {
          "base_uri": "https://localhost:8080/"
        },
        "id": "3N_43i8pRjss",
        "outputId": "c2622cdc-429f-4f22-85fd-214267fd0f17"
      },
      "execution_count": null,
      "outputs": [
        {
          "output_type": "execute_result",
          "data": {
            "text/plain": [
              "tensor([ 9., 36., 81.])"
            ]
          },
          "metadata": {},
          "execution_count": 30
        }
      ]
    },
    {
      "cell_type": "code",
      "source": [
        "some_tensor = torch.rand(3, 4)\n",
        "some_tensor"
      ],
      "metadata": {
        "colab": {
          "base_uri": "https://localhost:8080/"
        },
        "id": "vtbTQA7ARmzr",
        "outputId": "6ce13604-1a1e-4f77-a609-db8ca7a5e0c0"
      },
      "execution_count": null,
      "outputs": [
        {
          "output_type": "execute_result",
          "data": {
            "text/plain": [
              "tensor([[0.0713, 0.4017, 0.3644, 0.5135],\n",
              "        [0.2742, 0.3651, 0.0673, 0.0424],\n",
              "        [0.5932, 0.5077, 0.4038, 0.5496]])"
            ]
          },
          "metadata": {},
          "execution_count": 31
        }
      ]
    },
    {
      "cell_type": "code",
      "source": [
        "print(some_tensor)\n",
        "print(f\"Datatype of tensor: {some_tensor.dtype}\")\n",
        "print(f\"Shape of tensor: {some_tensor.size()}\") #  some_tensor.shape\n",
        "print(f\"Device of tensor: {some_tensor.device}\")\n"
      ],
      "metadata": {
        "colab": {
          "base_uri": "https://localhost:8080/"
        },
        "id": "10IzFAVUSv34",
        "outputId": "59a308cf-8e1e-4597-817d-24ecaaabb0d0"
      },
      "execution_count": null,
      "outputs": [
        {
          "output_type": "stream",
          "name": "stdout",
          "text": [
            "tensor([[0.0713, 0.4017, 0.3644, 0.5135],\n",
            "        [0.2742, 0.3651, 0.0673, 0.0424],\n",
            "        [0.5932, 0.5077, 0.4038, 0.5496]])\n",
            "Datatype of tensor: torch.float32\n",
            "Shape of tensor: torch.Size([3, 4])\n",
            "Device of tensor: cpu\n"
          ]
        }
      ]
    },
    {
      "cell_type": "markdown",
      "source": [
        "### Manipulating Tensors (tensor operations)\n",
        "\n",
        "Tensor operations include:\n",
        "* Addition\n",
        "* Subtraction\n",
        "* Multiplication (element-wise)\n",
        "* Division\n",
        "* Matrix multiplication"
      ],
      "metadata": {
        "id": "0a3Mb-bqTxVI"
      }
    },
    {
      "cell_type": "code",
      "source": [
        "k = 3\n",
        "tensorX = torch.tensor([1, 2, 3])\n",
        "\n",
        "print(tensorX + 10)\n",
        "print(tensorX - 10)\n",
        "print(tensorX * 10)\n",
        "print(tensorX / 10)\n",
        "print(tensorX)"
      ],
      "metadata": {
        "colab": {
          "base_uri": "https://localhost:8080/"
        },
        "id": "p-pOpjXTT9aW",
        "outputId": "65002271-4033-4912-fbed-270d50c9a8d7"
      },
      "execution_count": null,
      "outputs": [
        {
          "output_type": "stream",
          "name": "stdout",
          "text": [
            "tensor([11, 12, 13])\n",
            "tensor([-9, -8, -7])\n",
            "tensor([10, 20, 30])\n",
            "tensor([0.1000, 0.2000, 0.3000])\n",
            "tensor([1, 2, 3])\n"
          ]
        }
      ]
    },
    {
      "cell_type": "code",
      "source": [
        "print(tensorX * k)"
      ],
      "metadata": {
        "colab": {
          "base_uri": "https://localhost:8080/"
        },
        "id": "IuIu6sliUO2u",
        "outputId": "df5165c9-58ae-4425-80ad-76a71b46d7d4"
      },
      "execution_count": null,
      "outputs": [
        {
          "output_type": "stream",
          "name": "stdout",
          "text": [
            "tensor([3, 6, 9])\n"
          ]
        }
      ]
    },
    {
      "cell_type": "code",
      "source": [
        "print(torch.add(tensorX, 100))\n",
        "print(torch.subtract(tensorX, 100))\n",
        "print(torch.multiply(tensorX, 100))\n",
        "print(torch.divide(tensorX, 100))"
      ],
      "metadata": {
        "colab": {
          "base_uri": "https://localhost:8080/"
        },
        "id": "InuhvZUOUnee",
        "outputId": "15d5167c-c7b6-4129-aa86-8bf1b70b8433"
      },
      "execution_count": null,
      "outputs": [
        {
          "output_type": "stream",
          "name": "stdout",
          "text": [
            "tensor([101, 102, 103])\n",
            "tensor([-99, -98, -97])\n",
            "tensor([100, 200, 300])\n",
            "tensor([0.0100, 0.0200, 0.0300])\n"
          ]
        }
      ]
    },
    {
      "cell_type": "code",
      "source": [
        "# Matrix Multiplication\n",
        "tensorY = torch.tensor([5, 10, 15])\n",
        "print(f\"{tensorX} * {tensorY} = {tensorX * tensorY}\")"
      ],
      "metadata": {
        "colab": {
          "base_uri": "https://localhost:8080/"
        },
        "id": "ncGtYDsfUy0r",
        "outputId": "803dcc7f-d3e9-4e8b-d910-aae3d89ef0a4"
      },
      "execution_count": null,
      "outputs": [
        {
          "output_type": "stream",
          "name": "stdout",
          "text": [
            "tensor([1, 2, 3]) * tensor([ 5, 10, 15]) = tensor([ 5, 20, 45])\n"
          ]
        }
      ]
    },
    {
      "cell_type": "code",
      "source": [
        "%%time\n",
        "\n",
        "value = 0\n",
        "\n",
        "for i in range(len(tensorX)):\n",
        "  value += tensorX[i] * tensorY[i]\n",
        "\n",
        "print(value)"
      ],
      "metadata": {
        "colab": {
          "base_uri": "https://localhost:8080/"
        },
        "id": "iT_2QWwpVqo9",
        "outputId": "3e99585c-0cc4-4394-87d6-28e3a3c8eb64"
      },
      "execution_count": null,
      "outputs": [
        {
          "output_type": "stream",
          "name": "stdout",
          "text": [
            "tensor(70)\n",
            "CPU times: user 262 µs, sys: 38 µs, total: 300 µs\n",
            "Wall time: 307 µs\n"
          ]
        }
      ]
    },
    {
      "cell_type": "code",
      "source": [
        "%%time\n",
        "torch.matmul(tensorX, tensorY)"
      ],
      "metadata": {
        "colab": {
          "base_uri": "https://localhost:8080/"
        },
        "id": "7KnP_2e7Ww2-",
        "outputId": "8d82050b-3b70-4e61-ea5f-68fbfbbb6f4e"
      },
      "execution_count": null,
      "outputs": [
        {
          "output_type": "stream",
          "name": "stdout",
          "text": [
            "CPU times: user 58 µs, sys: 8 µs, total: 66 µs\n",
            "Wall time: 70.1 µs\n"
          ]
        },
        {
          "output_type": "execute_result",
          "data": {
            "text/plain": [
              "tensor(70)"
            ]
          },
          "metadata": {},
          "execution_count": 38
        }
      ]
    },
    {
      "cell_type": "code",
      "source": [
        "\"\"\"torch.matmul(torch.rand(3, 2), torch.rand(3, 2))\"\"\" # RuntimeError: mat1 and mat2 shapes cannot be multiplied (3x2 and 3x2)\n",
        "torch.matmul(torch.rand(2, 3), torch.rand(3, 2)).shape"
      ],
      "metadata": {
        "colab": {
          "base_uri": "https://localhost:8080/"
        },
        "id": "KULALli7X6Sb",
        "outputId": "4e3d112f-e291-4138-d83a-1e0763a8030a"
      },
      "execution_count": null,
      "outputs": [
        {
          "output_type": "execute_result",
          "data": {
            "text/plain": [
              "torch.Size([2, 2])"
            ]
          },
          "metadata": {},
          "execution_count": 39
        }
      ]
    },
    {
      "cell_type": "code",
      "source": [
        "# Shapes for matrix multiplication\n",
        "tensorA = torch.tensor([\n",
        "    [1, 2],\n",
        "    [3, 4],\n",
        "    [5, 6]\n",
        "])\n",
        "tensorB = torch.tensor([\n",
        "    [7, 10],\n",
        "    [8, 11],\n",
        "    [9, 12]\n",
        "])"
      ],
      "metadata": {
        "id": "Vf6-2GqeJiH2"
      },
      "execution_count": null,
      "outputs": []
    },
    {
      "cell_type": "code",
      "source": [
        "torch.mm(tensorA, tensorB) # mm is the same as matmul"
      ],
      "metadata": {
        "colab": {
          "base_uri": "https://localhost:8080/",
          "height": 175
        },
        "id": "P3yXBNNiLfRO",
        "outputId": "4ee3b9ea-c0b0-4028-c6bc-914d3a471f4c"
      },
      "execution_count": null,
      "outputs": [
        {
          "output_type": "error",
          "ename": "RuntimeError",
          "evalue": "ignored",
          "traceback": [
            "\u001b[0;31m---------------------------------------------------------------------------\u001b[0m",
            "\u001b[0;31mRuntimeError\u001b[0m                              Traceback (most recent call last)",
            "\u001b[0;32m<ipython-input-42-2c2a86cd81cf>\u001b[0m in \u001b[0;36m<cell line: 1>\u001b[0;34m()\u001b[0m\n\u001b[0;32m----> 1\u001b[0;31m \u001b[0mtorch\u001b[0m\u001b[0;34m.\u001b[0m\u001b[0mmm\u001b[0m\u001b[0;34m(\u001b[0m\u001b[0mtensorA\u001b[0m\u001b[0;34m,\u001b[0m \u001b[0mtensorB\u001b[0m\u001b[0;34m)\u001b[0m \u001b[0;31m# mm is the same as matmul\u001b[0m\u001b[0;34m\u001b[0m\u001b[0;34m\u001b[0m\u001b[0m\n\u001b[0m",
            "\u001b[0;31mRuntimeError\u001b[0m: mat1 and mat2 shapes cannot be multiplied (3x2 and 3x2)"
          ]
        }
      ]
    },
    {
      "cell_type": "code",
      "source": [
        "\"\"\"\n",
        "To fix tensor shape issues, we can manipulate the shape of one of our tensors ( Transpoze )\n",
        "\"\"\"\n",
        "\n",
        "print(tensorB.T) # transpoze\n",
        "print(\"\\n\", tensorB.T.shape)"
      ],
      "metadata": {
        "colab": {
          "base_uri": "https://localhost:8080/"
        },
        "id": "_0agGO6bLvLI",
        "outputId": "8bcb73cb-39be-4495-aea1-de6266bfd2bb"
      },
      "execution_count": null,
      "outputs": [
        {
          "output_type": "stream",
          "name": "stdout",
          "text": [
            "tensor([[ 7,  8,  9],\n",
            "        [10, 11, 12]])\n",
            "\n",
            " torch.Size([2, 3])\n"
          ]
        }
      ]
    },
    {
      "cell_type": "code",
      "source": [
        "torch.mm(tensorA, tensorB.T)"
      ],
      "metadata": {
        "colab": {
          "base_uri": "https://localhost:8080/"
        },
        "id": "MtX-wrwzMZym",
        "outputId": "da4fcbd0-8c37-49d2-806a-49737b66074a"
      },
      "execution_count": null,
      "outputs": [
        {
          "output_type": "execute_result",
          "data": {
            "text/plain": [
              "tensor([[ 27,  30,  33],\n",
              "        [ 61,  68,  75],\n",
              "        [ 95, 106, 117]])"
            ]
          },
          "metadata": {},
          "execution_count": 44
        }
      ]
    },
    {
      "cell_type": "markdown",
      "source": [
        "### TENSOR AGGREGATION\n",
        "* max\n",
        "* min\n",
        "* mean\n",
        "* sum"
      ],
      "metadata": {
        "id": "1M83aOkZR5TG"
      }
    },
    {
      "cell_type": "code",
      "source": [
        "tensorC = torch.tensor([\n",
        "    [1, 5, 12],\n",
        "    [-4, 6, 1],\n",
        "    [7, 11, -6]\n",
        "])"
      ],
      "metadata": {
        "id": "21sWIvVpR7rc"
      },
      "execution_count": null,
      "outputs": []
    },
    {
      "cell_type": "code",
      "source": [
        "from google.colab import drive\n",
        "drive.mount('/content/drive')"
      ],
      "metadata": {
        "id": "PddTD6sHPcaz"
      },
      "execution_count": null,
      "outputs": []
    },
    {
      "cell_type": "code",
      "source": [
        "print(f\"Min: {torch.min(tensorC)}, {tensorC.min()}\")\n",
        "print(f\"Max: {torch.max(tensorC)}, {tensorC.max()}\")\n",
        "print(f\"Mean: {torch.mean(tensorC.type(torch.float32))}, {tensorC.type(torch.float32).mean()}\") # Should be float for mean\n",
        "print(f\"Sum: {torch.sum(tensorC)}, {tensorC.sum()}\")\n"
      ],
      "metadata": {
        "colab": {
          "base_uri": "https://localhost:8080/"
        },
        "id": "hvAcKECrSQfd",
        "outputId": "b37469f4-0d62-43c5-89cb-0ab6bf099a3d"
      },
      "execution_count": null,
      "outputs": [
        {
          "output_type": "stream",
          "name": "stdout",
          "text": [
            "Min: -6, -6\n",
            "Max: 12, 12\n",
            "Mean: 3.6666667461395264, 3.6666667461395264\n",
            "Sum: 33, 33\n"
          ]
        }
      ]
    },
    {
      "cell_type": "code",
      "source": [
        "print(f\"Where is min element: {tensorC.argmin()}\") # as an index value\n",
        "print(f\"Where is max element: {tensorC.argmax()}\") # as an index value"
      ],
      "metadata": {
        "colab": {
          "base_uri": "https://localhost:8080/"
        },
        "id": "ORKxuomMSYtg",
        "outputId": "2af51f0d-4b22-490a-d7d7-ea43a840c871"
      },
      "execution_count": null,
      "outputs": [
        {
          "output_type": "stream",
          "name": "stdout",
          "text": [
            "Where is min element: 8\n",
            "Where is max element: 2\n"
          ]
        }
      ]
    },
    {
      "cell_type": "markdown",
      "source": [
        "### RESHAPING, VIEWING, SQUEZZING AND STACKING TENSORS"
      ],
      "metadata": {
        "id": "WBchYoox0VWr"
      }
    },
    {
      "cell_type": "code",
      "source": [
        "x = torch.arange(1., 10.)\n",
        "x, x.shape"
      ],
      "metadata": {
        "colab": {
          "base_uri": "https://localhost:8080/"
        },
        "id": "cXIZsO-F0a-B",
        "outputId": "987df174-8bd6-4621-cfd0-b13fcfaeca7d"
      },
      "execution_count": null,
      "outputs": [
        {
          "output_type": "execute_result",
          "data": {
            "text/plain": [
              "(tensor([1., 2., 3., 4., 5., 6., 7., 8., 9.]), torch.Size([9]))"
            ]
          },
          "metadata": {},
          "execution_count": 48
        }
      ]
    },
    {
      "cell_type": "code",
      "source": [
        "\"\"\"\n",
        "torch.Size([a, b]) and reshaped.Size([c, d]) =>  c * d == a * b\n",
        "\"\"\"\n",
        "\n",
        "try:\n",
        "  x_reshaped = x.reshape(1, 7)\n",
        "  x_reshaped, x_reshaped.shape\n",
        "except RuntimeError as e:\n",
        "  print(\"Error: \", e)\n",
        "\n",
        "print(\"\\n\")\n",
        "x_reshaped = x.reshape(1, 9)\n",
        "print(x_reshaped)\n",
        "print(x_reshaped.shape)\n",
        "\n",
        "print(\"\\n\")\n",
        "x_reshaped = x.reshape(3, 3)\n",
        "print(x_reshaped)\n",
        "print(x_reshaped.shape)"
      ],
      "metadata": {
        "colab": {
          "base_uri": "https://localhost:8080/"
        },
        "id": "wDB8wnk11z5j",
        "outputId": "52168a04-fbd6-4cd5-f583-2ce10812b09b"
      },
      "execution_count": null,
      "outputs": [
        {
          "output_type": "stream",
          "name": "stdout",
          "text": [
            "Error:  shape '[1, 7]' is invalid for input of size 9\n",
            "\n",
            "\n",
            "tensor([[1., 2., 3., 4., 5., 6., 7., 8., 9.]])\n",
            "torch.Size([1, 9])\n",
            "\n",
            "\n",
            "tensor([[1., 2., 3.],\n",
            "        [4., 5., 6.],\n",
            "        [7., 8., 9.]])\n",
            "torch.Size([3, 3])\n"
          ]
        }
      ]
    },
    {
      "cell_type": "code",
      "source": [
        "\"\"\"\n",
        "Change the View\n",
        "\"\"\"\n",
        "\n",
        "z = x.view(1, 9)\n",
        "print(z, z.shape)\n",
        "print(x)"
      ],
      "metadata": {
        "colab": {
          "base_uri": "https://localhost:8080/"
        },
        "id": "CLUHD77M14im",
        "outputId": "cb8ba954-6dcf-403a-c001-66bf60489984"
      },
      "execution_count": null,
      "outputs": [
        {
          "output_type": "stream",
          "name": "stdout",
          "text": [
            "tensor([[1., 2., 3., 4., 5., 6., 7., 8., 9.]]) torch.Size([1, 9])\n",
            "tensor([1., 2., 3., 4., 5., 6., 7., 8., 9.])\n"
          ]
        }
      ]
    },
    {
      "cell_type": "code",
      "source": [
        "z[:, 0] = 5 # all rows and 5. column\n",
        "z, x"
      ],
      "metadata": {
        "colab": {
          "base_uri": "https://localhost:8080/"
        },
        "id": "fwzs6W7E4sa_",
        "outputId": "a9e9b64b-9577-4ab7-f0f7-5fda293be9e7"
      },
      "execution_count": null,
      "outputs": [
        {
          "output_type": "execute_result",
          "data": {
            "text/plain": [
              "(tensor([[5., 2., 3., 4., 5., 6., 7., 8., 9.]]),\n",
              " tensor([5., 2., 3., 4., 5., 6., 7., 8., 9.]))"
            ]
          },
          "metadata": {},
          "execution_count": 51
        }
      ]
    },
    {
      "cell_type": "code",
      "source": [
        "\"\"\"\n",
        "Stack tensors on top of each other\n",
        "\"\"\"\n",
        "\n",
        "x_stacked = torch.stack([x, x, x, x], dim=1) # when dim = 0 size = (4, 9), when dim = 1 size = (9, 4)\n",
        "x_stacked, x_stacked.shape"
      ],
      "metadata": {
        "colab": {
          "base_uri": "https://localhost:8080/"
        },
        "id": "MBBYUxFa5e_3",
        "outputId": "03e70eee-78f0-4f35-ae38-ab352fe7986f"
      },
      "execution_count": null,
      "outputs": [
        {
          "output_type": "execute_result",
          "data": {
            "text/plain": [
              "(tensor([[5., 5., 5., 5.],\n",
              "         [2., 2., 2., 2.],\n",
              "         [3., 3., 3., 3.],\n",
              "         [4., 4., 4., 4.],\n",
              "         [5., 5., 5., 5.],\n",
              "         [6., 6., 6., 6.],\n",
              "         [7., 7., 7., 7.],\n",
              "         [8., 8., 8., 8.],\n",
              "         [9., 9., 9., 9.]]),\n",
              " torch.Size([9, 4]))"
            ]
          },
          "metadata": {},
          "execution_count": 52
        }
      ]
    },
    {
      "cell_type": "code",
      "source": [
        "\"\"\"\n",
        "Squezee - Removes all single dimensions from a target tensor\n",
        "Unsqueeze - Adds a single dimension to a target tensor at a specific dim\n",
        "\"\"\"\n",
        "print(f\"Previous tensor: {x_reshaped}\")\n",
        "print(f\"Previous shape: {x_reshaped.shape}\")\n",
        "\n",
        "x_unsqueezed = x_reshaped.unsqueeze(dim=0)\n",
        "\n",
        "print(f\"\\nNew Unsqueezed Tensor: {x_unsqueezed}\")\n",
        "print(f\"New Unsqueezed Shape: {x_unsqueezed.shape}\")\n",
        "\n",
        "x_squeezed = x_reshaped.squeeze()\n",
        "\n",
        "print(f\"\\nNew squeezed Tensor: {x_squeezed}\")\n",
        "print(f\"New squeezed Shape: {x_squeezed.shape}\")"
      ],
      "metadata": {
        "colab": {
          "base_uri": "https://localhost:8080/"
        },
        "id": "3LVkL2Oa6qrL",
        "outputId": "383a379d-0aa1-4a42-8631-c4f0829dc3ed"
      },
      "execution_count": null,
      "outputs": [
        {
          "output_type": "stream",
          "name": "stdout",
          "text": [
            "Previous tensor: tensor([[5., 2., 3.],\n",
            "        [4., 5., 6.],\n",
            "        [7., 8., 9.]])\n",
            "Previous shape: torch.Size([3, 3])\n",
            "\n",
            "New Unsqueezed Tensor: tensor([[[5., 2., 3.],\n",
            "         [4., 5., 6.],\n",
            "         [7., 8., 9.]]])\n",
            "New Unsqueezed Shape: torch.Size([1, 3, 3])\n",
            "\n",
            "New squeezed Tensor: tensor([[5., 2., 3.],\n",
            "        [4., 5., 6.],\n",
            "        [7., 8., 9.]])\n",
            "New squeezed Shape: torch.Size([3, 3])\n"
          ]
        }
      ]
    },
    {
      "cell_type": "code",
      "source": [
        "\"\"\"\n",
        "torch.permute - rearranges the dimensions of a target tensor in a specified order\n",
        "\"\"\"\n",
        "x_original = torch.rand(size=(224, 224, 3)) # height, weight, color_channels\n",
        "\n",
        "x_permuted = x_original.permute(2, 0, 1) # indexes: 0 -> 2 | 1 -> 0 | 2 -> 1, color_channels, height, width\n",
        "\n",
        "x_original.shape, x_permuted.shape"
      ],
      "metadata": {
        "colab": {
          "base_uri": "https://localhost:8080/"
        },
        "id": "jFIIXQYY8gRe",
        "outputId": "47e00201-41b1-49c9-def1-711f1de543bd"
      },
      "execution_count": null,
      "outputs": [
        {
          "output_type": "execute_result",
          "data": {
            "text/plain": [
              "(torch.Size([224, 224, 3]), torch.Size([3, 224, 224]))"
            ]
          },
          "metadata": {},
          "execution_count": 54
        }
      ]
    },
    {
      "cell_type": "markdown",
      "source": [
        "### INDEXING (SELECTING DATA FROM TENSORS)"
      ],
      "metadata": {
        "id": "Q0aDPg4IpQFI"
      }
    },
    {
      "cell_type": "code",
      "source": [
        "t = torch.arange(1, 10).reshape(1, 3, 3)\n",
        "t, t.shape"
      ],
      "metadata": {
        "colab": {
          "base_uri": "https://localhost:8080/"
        },
        "id": "YHYSpVHopTWC",
        "outputId": "8f5897cb-0abd-4ce9-fc86-b5b017b0baa4"
      },
      "execution_count": null,
      "outputs": [
        {
          "output_type": "execute_result",
          "data": {
            "text/plain": [
              "(tensor([[[1, 2, 3],\n",
              "          [4, 5, 6],\n",
              "          [7, 8, 9]]]),\n",
              " torch.Size([1, 3, 3]))"
            ]
          },
          "metadata": {},
          "execution_count": 56
        }
      ]
    },
    {
      "cell_type": "code",
      "source": [
        "t[0]"
      ],
      "metadata": {
        "colab": {
          "base_uri": "https://localhost:8080/"
        },
        "id": "1M4ffQjkpZ81",
        "outputId": "dcb674f8-9410-4a89-b9a5-45d7773cdd0d"
      },
      "execution_count": null,
      "outputs": [
        {
          "output_type": "execute_result",
          "data": {
            "text/plain": [
              "tensor([[1, 2, 3],\n",
              "        [4, 5, 6],\n",
              "        [7, 8, 9]])"
            ]
          },
          "metadata": {},
          "execution_count": 57
        }
      ]
    },
    {
      "cell_type": "code",
      "source": [
        "t[0][1], t[0, 1]"
      ],
      "metadata": {
        "colab": {
          "base_uri": "https://localhost:8080/"
        },
        "id": "Bm2bEslBpdDV",
        "outputId": "4b517b87-6487-4735-aa6b-1b4ce70b5f4a"
      },
      "execution_count": null,
      "outputs": [
        {
          "output_type": "execute_result",
          "data": {
            "text/plain": [
              "(tensor([4, 5, 6]), tensor([4, 5, 6]))"
            ]
          },
          "metadata": {},
          "execution_count": 59
        }
      ]
    },
    {
      "cell_type": "code",
      "source": [
        "t[0, 1, 2], t[0][1][2]"
      ],
      "metadata": {
        "colab": {
          "base_uri": "https://localhost:8080/"
        },
        "id": "re2zJFJ5pf59",
        "outputId": "e1156991-98c5-4362-eabd-afb0d89d923e"
      },
      "execution_count": null,
      "outputs": [
        {
          "output_type": "execute_result",
          "data": {
            "text/plain": [
              "(tensor(6), tensor(6))"
            ]
          },
          "metadata": {},
          "execution_count": 60
        }
      ]
    },
    {
      "cell_type": "code",
      "source": [
        "t[:, 0]"
      ],
      "metadata": {
        "colab": {
          "base_uri": "https://localhost:8080/"
        },
        "id": "XzMoeKzmpnbh",
        "outputId": "2078dadc-0305-4f0a-f0c3-a6c16a99b441"
      },
      "execution_count": null,
      "outputs": [
        {
          "output_type": "execute_result",
          "data": {
            "text/plain": [
              "tensor([[1, 2, 3]])"
            ]
          },
          "metadata": {},
          "execution_count": 61
        }
      ]
    },
    {
      "cell_type": "code",
      "source": [
        "t[:, :, 2]"
      ],
      "metadata": {
        "colab": {
          "base_uri": "https://localhost:8080/"
        },
        "id": "1kgYrmcxpwyu",
        "outputId": "debf626a-2947-48d8-94b0-d3b519fcef79"
      },
      "execution_count": null,
      "outputs": [
        {
          "output_type": "execute_result",
          "data": {
            "text/plain": [
              "tensor([[3, 6, 9]])"
            ]
          },
          "metadata": {},
          "execution_count": 76
        }
      ]
    },
    {
      "cell_type": "code",
      "source": [
        "t[:, 0, 0], t[:][0][0][0]"
      ],
      "metadata": {
        "colab": {
          "base_uri": "https://localhost:8080/"
        },
        "id": "aJu8Li01py46",
        "outputId": "66aeda85-606e-44ca-fd01-34929ff917df"
      },
      "execution_count": null,
      "outputs": [
        {
          "output_type": "execute_result",
          "data": {
            "text/plain": [
              "(tensor([1]), tensor(1))"
            ]
          },
          "metadata": {},
          "execution_count": 75
        }
      ]
    },
    {
      "cell_type": "markdown",
      "source": [
        "### PYTORCH TENSORS & NUMPY"
      ],
      "metadata": {
        "id": "R-dncLkcu__G"
      }
    },
    {
      "cell_type": "code",
      "source": [
        "\"\"\"\n",
        "NumPy to Tensor\n",
        "\"\"\"\n",
        "import numpy as np\n",
        "\n",
        "array = np.arange(1., 8.)\n",
        "np_tensor = torch.from_numpy(array)  # .type(torch.float32)\n",
        "array, np_tensor"
      ],
      "metadata": {
        "colab": {
          "base_uri": "https://localhost:8080/"
        },
        "id": "KFsP1mDbqWj9",
        "outputId": "fbda999b-df5a-444f-bc1b-2b3491be426e"
      },
      "execution_count": null,
      "outputs": [
        {
          "output_type": "execute_result",
          "data": {
            "text/plain": [
              "(array([1., 2., 3., 4., 5., 6., 7.]), tensor([1., 2., 3., 4., 5., 6., 7.]))"
            ]
          },
          "metadata": {},
          "execution_count": 88
        }
      ]
    },
    {
      "cell_type": "code",
      "source": [
        "array.dtype, np_tensor.dtype"
      ],
      "metadata": {
        "colab": {
          "base_uri": "https://localhost:8080/"
        },
        "id": "E1TuS2AWvJNs",
        "outputId": "60945a6a-0e0f-4ba2-d98c-1cfcd9824532"
      },
      "execution_count": null,
      "outputs": [
        {
          "output_type": "execute_result",
          "data": {
            "text/plain": [
              "(dtype('float64'), torch.float32)"
            ]
          },
          "metadata": {},
          "execution_count": 89
        }
      ]
    },
    {
      "cell_type": "code",
      "source": [
        "array = array + 1\n",
        "array, np_tensor"
      ],
      "metadata": {
        "colab": {
          "base_uri": "https://localhost:8080/"
        },
        "id": "_D6pFvVQvTfH",
        "outputId": "a271395e-7dfe-414f-f01c-8333c459387e"
      },
      "execution_count": null,
      "outputs": [
        {
          "output_type": "execute_result",
          "data": {
            "text/plain": [
              "(array([3., 4., 5., 6., 7., 8., 9.]), tensor([1., 2., 3., 4., 5., 6., 7.]))"
            ]
          },
          "metadata": {},
          "execution_count": 92
        }
      ]
    },
    {
      "cell_type": "code",
      "source": [
        "\"\"\"\n",
        "Tensor to NumPy\n",
        "\"\"\"\n",
        "example_tensor = torch.ones(7)\n",
        "tensor_to_np_array = example_tensor.numpy()\n",
        "example_tensor, tensor_to_np_array"
      ],
      "metadata": {
        "colab": {
          "base_uri": "https://localhost:8080/"
        },
        "id": "FeDzdsGKwBgz",
        "outputId": "3cc631b4-e953-4e82-c011-6e43a7c160b1"
      },
      "execution_count": null,
      "outputs": [
        {
          "output_type": "execute_result",
          "data": {
            "text/plain": [
              "(tensor([1., 1., 1., 1., 1., 1., 1.]),\n",
              " array([1., 1., 1., 1., 1., 1., 1.], dtype=float32))"
            ]
          },
          "metadata": {},
          "execution_count": 93
        }
      ]
    },
    {
      "cell_type": "markdown",
      "source": [
        "### REPRODUCUBILITY (TRYING TO TAKE RANDOM OUT OF RANDOM)"
      ],
      "metadata": {
        "id": "x0fBG6Jsw675"
      }
    },
    {
      "cell_type": "code",
      "source": [
        "random_tensor_A = torch.rand(3, 4)\n",
        "random_tensor_B = torch.rand(3, 4)\n",
        "\n",
        "print(random_tensor_A)\n",
        "print(\"\\n\", random_tensor_B)\n",
        "print(\"\\n\", random_tensor_A == random_tensor_B)"
      ],
      "metadata": {
        "colab": {
          "base_uri": "https://localhost:8080/"
        },
        "id": "Sb7PgKS1xDS9",
        "outputId": "f5e0f175-2e9d-428a-802e-819a4cf57144"
      },
      "execution_count": null,
      "outputs": [
        {
          "output_type": "stream",
          "name": "stdout",
          "text": [
            "tensor([[0.5008, 0.3382, 0.4858, 0.5767],\n",
            "        [0.5029, 0.3443, 0.2482, 0.9120],\n",
            "        [0.2601, 0.3189, 0.5522, 0.7457]])\n",
            "\n",
            " tensor([[0.2264, 0.1323, 0.0981, 0.0895],\n",
            "        [0.3614, 0.8601, 0.1190, 0.1652],\n",
            "        [0.1930, 0.7328, 0.7160, 0.9781]])\n",
            "\n",
            " tensor([[False, False, False, False],\n",
            "        [False, False, False, False],\n",
            "        [False, False, False, False]])\n"
          ]
        }
      ]
    },
    {
      "cell_type": "code",
      "source": [
        "\"\"\"\n",
        "Let's make some random but reproducible tensors\n",
        "\"\"\"\n",
        "\n",
        "RANDOM_SEED = 42\n",
        "\n",
        "torch.manual_seed(RANDOM_SEED)\n",
        "random_tensor_C = torch.rand(3, 4)\n",
        "\n",
        "torch.manual_seed(RANDOM_SEED)\n",
        "random_tensor_D = torch.rand(3, 4)\n",
        "\n",
        "print(random_tensor_C)\n",
        "print(\"\\n\", random_tensor_D)\n",
        "print(\"\\n\", random_tensor_D == random_tensor_C)"
      ],
      "metadata": {
        "colab": {
          "base_uri": "https://localhost:8080/"
        },
        "id": "UyG3QcsFxNea",
        "outputId": "a0d9b2dc-f6e5-40aa-d589-0b29c3dc2755"
      },
      "execution_count": null,
      "outputs": [
        {
          "output_type": "stream",
          "name": "stdout",
          "text": [
            "tensor([[0.8823, 0.9150, 0.3829, 0.9593],\n",
            "        [0.3904, 0.6009, 0.2566, 0.7936],\n",
            "        [0.9408, 0.1332, 0.9346, 0.5936]])\n",
            "\n",
            " tensor([[0.8823, 0.9150, 0.3829, 0.9593],\n",
            "        [0.3904, 0.6009, 0.2566, 0.7936],\n",
            "        [0.9408, 0.1332, 0.9346, 0.5936]])\n",
            "\n",
            " tensor([[True, True, True, True],\n",
            "        [True, True, True, True],\n",
            "        [True, True, True, True]])\n"
          ]
        }
      ]
    },
    {
      "cell_type": "markdown",
      "source": [
        "### CHECK FOR GPU ACCESS WITH PYTORCH"
      ],
      "metadata": {
        "id": "3T8Ea37P1_V6"
      }
    },
    {
      "cell_type": "code",
      "source": [
        "!nvidia-smi"
      ],
      "metadata": {
        "colab": {
          "base_uri": "https://localhost:8080/"
        },
        "id": "rzUKemGjyeB0",
        "outputId": "cfd8896d-ae13-4dda-ae91-d87b31c15933"
      },
      "execution_count": null,
      "outputs": [
        {
          "output_type": "stream",
          "name": "stdout",
          "text": [
            "Thu Oct 26 11:57:24 2023       \n",
            "+-----------------------------------------------------------------------------+\n",
            "| NVIDIA-SMI 525.105.17   Driver Version: 525.105.17   CUDA Version: 12.0     |\n",
            "|-------------------------------+----------------------+----------------------+\n",
            "| GPU  Name        Persistence-M| Bus-Id        Disp.A | Volatile Uncorr. ECC |\n",
            "| Fan  Temp  Perf  Pwr:Usage/Cap|         Memory-Usage | GPU-Util  Compute M. |\n",
            "|                               |                      |               MIG M. |\n",
            "|===============================+======================+======================|\n",
            "|   0  Tesla T4            Off  | 00000000:00:04.0 Off |                    0 |\n",
            "| N/A   36C    P8     9W /  70W |      3MiB / 15360MiB |      0%      Default |\n",
            "|                               |                      |                  N/A |\n",
            "+-------------------------------+----------------------+----------------------+\n",
            "                                                                               \n",
            "+-----------------------------------------------------------------------------+\n",
            "| Processes:                                                                  |\n",
            "|  GPU   GI   CI        PID   Type   Process name                  GPU Memory |\n",
            "|        ID   ID                                                   Usage      |\n",
            "|=============================================================================|\n",
            "|  No running processes found                                                 |\n",
            "+-----------------------------------------------------------------------------+\n"
          ]
        }
      ]
    },
    {
      "cell_type": "code",
      "source": [
        "torch.cuda.is_available()"
      ],
      "metadata": {
        "colab": {
          "base_uri": "https://localhost:8080/"
        },
        "id": "Dk7ttSNB1f8O",
        "outputId": "c6e7eeb4-e8c6-4653-cfbe-adc07ff43f50"
      },
      "execution_count": null,
      "outputs": [
        {
          "output_type": "execute_result",
          "data": {
            "text/plain": [
              "True"
            ]
          },
          "metadata": {},
          "execution_count": 120
        }
      ]
    },
    {
      "cell_type": "code",
      "source": [
        "\"\"\"\n",
        "Setup device agnostic code\n",
        "\"\"\"\n",
        "\n",
        "device = \"cuda\" if torch.cuda.is_available() else \"cpu\"\n",
        "device"
      ],
      "metadata": {
        "colab": {
          "base_uri": "https://localhost:8080/",
          "height": 36
        },
        "id": "k1fonVBk2LiG",
        "outputId": "acc6bad2-c957-40de-fd08-6f99605b4412"
      },
      "execution_count": null,
      "outputs": [
        {
          "output_type": "execute_result",
          "data": {
            "text/plain": [
              "'cuda'"
            ],
            "application/vnd.google.colaboratory.intrinsic+json": {
              "type": "string"
            }
          },
          "metadata": {},
          "execution_count": 121
        }
      ]
    },
    {
      "cell_type": "code",
      "source": [
        "\"\"\"\n",
        "Count number of devices\n",
        "\"\"\"\n",
        "torch.cuda.device_count()"
      ],
      "metadata": {
        "colab": {
          "base_uri": "https://localhost:8080/"
        },
        "id": "XEgBmHQ82XYa",
        "outputId": "0a8a2af2-5bc5-4dc0-a4f3-c67096805a63"
      },
      "execution_count": null,
      "outputs": [
        {
          "output_type": "execute_result",
          "data": {
            "text/plain": [
              "1"
            ]
          },
          "metadata": {},
          "execution_count": 122
        }
      ]
    },
    {
      "cell_type": "code",
      "source": [
        "\"\"\"\n",
        "Putting Tensors on the GPU\n",
        "\"\"\"\n",
        "\n",
        "tensorD = torch.tensor([1, 2, 3])  # default device = \"cpu\"\n",
        "\n",
        "print(tensorD, tensorD.device)"
      ],
      "metadata": {
        "colab": {
          "base_uri": "https://localhost:8080/"
        },
        "id": "0O11zW1G2c5W",
        "outputId": "edb64748-2551-4f2a-b83e-313541166134"
      },
      "execution_count": null,
      "outputs": [
        {
          "output_type": "stream",
          "name": "stdout",
          "text": [
            "tensor([1, 2, 3]) cpu\n"
          ]
        }
      ]
    },
    {
      "cell_type": "code",
      "source": [
        "\"\"\"\n",
        "Move tensor to GPU if available\n",
        "\"\"\"\n",
        "tensor_on_gpu = tensorD.to(device)\n",
        "tensor_on_gpu"
      ],
      "metadata": {
        "colab": {
          "base_uri": "https://localhost:8080/"
        },
        "id": "tADTYInb3Rf5",
        "outputId": "9cd89fba-f774-4519-c004-b0dfb5fbd335"
      },
      "execution_count": null,
      "outputs": [
        {
          "output_type": "execute_result",
          "data": {
            "text/plain": [
              "tensor([1, 2, 3], device='cuda:0')"
            ]
          },
          "metadata": {},
          "execution_count": 127
        }
      ]
    },
    {
      "cell_type": "code",
      "source": [
        "\"\"\"\n",
        "Move tensor to CPU\n",
        "\"\"\"\n",
        "tensor_on_gpu.numpy()  # Numpy does not work in gpu"
      ],
      "metadata": {
        "colab": {
          "base_uri": "https://localhost:8080/",
          "height": 210
        },
        "id": "qbR3x2VO3hXq",
        "outputId": "26ac5c67-d31b-4830-e3b0-af343d3a1de8"
      },
      "execution_count": null,
      "outputs": [
        {
          "output_type": "error",
          "ename": "TypeError",
          "evalue": "ignored",
          "traceback": [
            "\u001b[0;31m---------------------------------------------------------------------------\u001b[0m",
            "\u001b[0;31mTypeError\u001b[0m                                 Traceback (most recent call last)",
            "\u001b[0;32m<ipython-input-128-0f79e17d0b98>\u001b[0m in \u001b[0;36m<cell line: 4>\u001b[0;34m()\u001b[0m\n\u001b[1;32m      2\u001b[0m \u001b[0mMove\u001b[0m \u001b[0mtensor\u001b[0m \u001b[0mto\u001b[0m \u001b[0mCPU\u001b[0m\u001b[0;34m\u001b[0m\u001b[0;34m\u001b[0m\u001b[0m\n\u001b[1;32m      3\u001b[0m \"\"\"\n\u001b[0;32m----> 4\u001b[0;31m \u001b[0mtensor_on_gpu\u001b[0m\u001b[0;34m.\u001b[0m\u001b[0mnumpy\u001b[0m\u001b[0;34m(\u001b[0m\u001b[0;34m)\u001b[0m\u001b[0;34m\u001b[0m\u001b[0;34m\u001b[0m\u001b[0m\n\u001b[0m",
            "\u001b[0;31mTypeError\u001b[0m: can't convert cuda:0 device type tensor to numpy. Use Tensor.cpu() to copy the tensor to host memory first."
          ]
        }
      ]
    },
    {
      "cell_type": "code",
      "source": [
        "\"\"\"\n",
        "To fix the GPU tensor with NumPy issue\n",
        "\"\"\"\n",
        "tensor_back_on_cpu = tensor_on_gpu.cpu().numpy()\n",
        "tensor_back_on_cpu,"
      ],
      "metadata": {
        "colab": {
          "base_uri": "https://localhost:8080/"
        },
        "id": "YbJiPuYg4LvY",
        "outputId": "1d310946-8ab7-4dc6-eec0-48d2176318ee"
      },
      "execution_count": null,
      "outputs": [
        {
          "output_type": "execute_result",
          "data": {
            "text/plain": [
              "(array([1, 2, 3]),)"
            ]
          },
          "metadata": {},
          "execution_count": 132
        }
      ]
    },
    {
      "cell_type": "code",
      "source": [],
      "metadata": {
        "id": "d8r_N5QE4XSB"
      },
      "execution_count": null,
      "outputs": []
    }
  ]
}